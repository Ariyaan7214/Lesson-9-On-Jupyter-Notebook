{
 "cells": [
  {
   "cell_type": "code",
   "execution_count": 1,
   "id": "5e3677f7",
   "metadata": {},
   "outputs": [],
   "source": [
    "def mytabe(num1,num2,num3):\n",
    "    if num1==num2==num3:\n",
    "        print(num1*num2*num3)\n",
    "        \n",
    "    elif num1>num2>num3:\n",
    "        sum=num1+num2+num3\n",
    "        print(num1+num2+num3)\n",
    "        \n",
    "    else:\n",
    "        print(num1**2)\n",
    "    \n",
    "    \n",
    "    \n",
    "    "
   ]
  },
  {
   "cell_type": "code",
   "execution_count": 2,
   "id": "8cf5c919",
   "metadata": {},
   "outputs": [
    {
     "name": "stdout",
     "output_type": "stream",
     "text": [
      "27\n"
     ]
    }
   ],
   "source": [
    "mytabe(3,3,3)"
   ]
  },
  {
   "cell_type": "code",
   "execution_count": null,
   "id": "3f9d8192",
   "metadata": {},
   "outputs": [],
   "source": []
  },
  {
   "cell_type": "code",
   "execution_count": 3,
   "id": "ab55e7ee",
   "metadata": {},
   "outputs": [
    {
     "name": "stdout",
     "output_type": "stream",
     "text": [
      "12\n"
     ]
    }
   ],
   "source": [
    "mytabe(5,4,3)"
   ]
  },
  {
   "cell_type": "code",
   "execution_count": 9,
   "id": "44829f5b",
   "metadata": {},
   "outputs": [
    {
     "name": "stdout",
     "output_type": "stream",
     "text": [
      "2304\n"
     ]
    }
   ],
   "source": [
    "mytabe(48,4,5)"
   ]
  },
  {
   "cell_type": "code",
   "execution_count": 10,
   "id": "c1e2ce3a",
   "metadata": {},
   "outputs": [],
   "source": [
    "f = open(\"new 1.txt\", mode='r', encoding='utf-8')"
   ]
  },
  {
   "cell_type": "code",
   "execution_count": 11,
   "id": "5d1f4de0",
   "metadata": {},
   "outputs": [
    {
     "data": {
      "text/plain": [
       "\"'Machine Learning is an AI technique that teaches computers to learn from experience. Machine learning algorithms use computational methods to “learn” information directly from data without relying on a predetermined equation as a model.\\\\n'\""
      ]
     },
     "execution_count": 11,
     "metadata": {},
     "output_type": "execute_result"
    }
   ],
   "source": [
    "f.read()"
   ]
  },
  {
   "cell_type": "code",
   "execution_count": 12,
   "id": "8ba7dd87",
   "metadata": {},
   "outputs": [],
   "source": [
    "f.close()"
   ]
  },
  {
   "cell_type": "code",
   "execution_count": 13,
   "id": "935f9b69",
   "metadata": {},
   "outputs": [
    {
     "name": "stdout",
     "output_type": "stream",
     "text": [
      "'Machine Learning is an AI technique that teaches computers to learn from experience. Machine learning algorithms use computational methods to “learn” information directly from data without relying on a predetermined equation as a model.\\n'\n"
     ]
    }
   ],
   "source": [
    "with open(\"new 1.txt\",'r', encoding = 'utf-8') as f:\n",
    "    print(f.read())"
   ]
  },
  {
   "cell_type": "code",
   "execution_count": 20,
   "id": "2b3b214e",
   "metadata": {},
   "outputs": [],
   "source": [
    "with open(\"new.txt\",'w', encoding = 'utf-8') as f:\n",
    "    f.write(\"my name is \\n sam\")"
   ]
  },
  {
   "cell_type": "code",
   "execution_count": 21,
   "id": "dfa67834",
   "metadata": {},
   "outputs": [],
   "source": [
    "with open(\"new.txt\",'a', encoding = 'utf-8') as f:\n",
    "    f.write(\"ben\\n\")"
   ]
  },
  {
   "cell_type": "code",
   "execution_count": 22,
   "id": "acf40f32",
   "metadata": {},
   "outputs": [],
   "source": [
    "def concat(list):\n",
    "    result=''\n",
    "    for element in list:\n",
    "        result += str(element)\n",
    "    return result"
   ]
  },
  {
   "cell_type": "code",
   "execution_count": 25,
   "id": "ed72a761",
   "metadata": {},
   "outputs": [
    {
     "data": {
      "text/plain": [
       "'12341257986'"
      ]
     },
     "execution_count": 25,
     "metadata": {},
     "output_type": "execute_result"
    }
   ],
   "source": [
    "concat([1,2,3,4,1,2,5,7,9,8,6])"
   ]
  },
  {
   "cell_type": "code",
   "execution_count": 26,
   "id": "5866e120",
   "metadata": {},
   "outputs": [],
   "source": [
    "def personalinfo():\n",
    "    name = 'ariyaan'\n",
    "    age=12\n",
    "    address='turkey,istanbul'\n",
    "    print(\" name:{} \\n age:{} \\n address:{}\".format(name,age,address))"
   ]
  },
  {
   "cell_type": "code",
   "execution_count": 27,
   "id": "e7642634",
   "metadata": {},
   "outputs": [
    {
     "name": "stdout",
     "output_type": "stream",
     "text": [
      " name:ariyaan \n",
      " age:12 \n",
      " address:turkey,istanbul\n"
     ]
    }
   ],
   "source": [
    "personalinfo()"
   ]
  },
  {
   "cell_type": "code",
   "execution_count": 1,
   "id": "7c80363b",
   "metadata": {},
   "outputs": [],
   "source": [
    "def personalinfo():\n",
    "    name =  input(\"please inter your name \")\n",
    "    age= input(\"please inter your age \") \n",
    "    address=input(\"please inter your address (optional)  \")\n",
    "    print(\" name:{} \\n age:{} \\n address:{}\".format(name,age,address))"
   ]
  },
  {
   "cell_type": "code",
   "execution_count": 2,
   "id": "7061128d",
   "metadata": {},
   "outputs": [
    {
     "name": "stdout",
     "output_type": "stream",
     "text": [
      "please inter your name ariyaan\n",
      "please inter your age 12\n",
      "please inter your address (optional)  iran,tehran\n",
      " name:ariyaan \n",
      " age:12 \n",
      " address:iran,tehran\n"
     ]
    }
   ],
   "source": [
    "personalinfo()"
   ]
  },
  {
   "cell_type": "code",
   "execution_count": null,
   "id": "96b00ed6",
   "metadata": {},
   "outputs": [],
   "source": []
  }
 ],
 "metadata": {
  "kernelspec": {
   "display_name": "Python 3 (ipykernel)",
   "language": "python",
   "name": "python3"
  },
  "language_info": {
   "codemirror_mode": {
    "name": "ipython",
    "version": 3
   },
   "file_extension": ".py",
   "mimetype": "text/x-python",
   "name": "python",
   "nbconvert_exporter": "python",
   "pygments_lexer": "ipython3",
   "version": "3.9.13"
  }
 },
 "nbformat": 4,
 "nbformat_minor": 5
}
