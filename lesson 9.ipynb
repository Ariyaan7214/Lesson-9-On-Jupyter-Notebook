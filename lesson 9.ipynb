{
 "cells": [
  {
   "cell_type": "code",
   "execution_count": 1,
   "id": "44cbaff1",
   "metadata": {},
   "outputs": [],
   "source": [
    "def mytabe(num1,num2,num3):\n",
    "    if num1==num2==num3:\n",
    "        print(num1*num2*num3)\n",
    "        \n",
    "    elif num1>num2>num3:\n",
    "        sum=num1+num2+num3\n",
    "        print(num1+num2+num3)\n",
    "        \n",
    "    else:\n",
    "        print(num1**2)\n",
    "    \n",
    "    \n",
    "    \n",
    "    "
   ]
  },
  {
   "cell_type": "code",
   "execution_count": 2,
   "id": "b027e07d",
   "metadata": {},
   "outputs": [
    {
     "name": "stdout",
     "output_type": "stream",
     "text": [
      "27\n"
     ]
    }
   ],
   "source": [
    "mytabe(3,3,3)"
   ]
  },
  {
   "cell_type": "code",
   "execution_count": null,
   "id": "9443c33f",
   "metadata": {},
   "outputs": [],
   "source": []
  },
  {
   "cell_type": "code",
   "execution_count": 3,
   "id": "da0a86d2",
   "metadata": {},
   "outputs": [
    {
     "name": "stdout",
     "output_type": "stream",
     "text": [
      "12\n"
     ]
    }
   ],
   "source": [
    "mytabe(5,4,3)"
   ]
  },
  {
   "cell_type": "code",
   "execution_count": 9,
   "id": "22261f61",
   "metadata": {},
   "outputs": [
    {
     "name": "stdout",
     "output_type": "stream",
     "text": [
      "2304\n"
     ]
    }
   ],
   "source": [
    "mytabe(48,4,5)"
   ]
  },
  {
   "cell_type": "code",
   "execution_count": 10,
   "id": "5fbd620b",
   "metadata": {},
   "outputs": [],
   "source": [
    "f = open(\"new 1.txt\", mode='r', encoding='utf-8')"
   ]
  },
  {
   "cell_type": "code",
   "execution_count": 11,
   "id": "665576a9",
   "metadata": {},
   "outputs": [
    {
     "data": {
      "text/plain": [
       "\"'Machine Learning is an AI technique that teaches computers to learn from experience. Machine learning algorithms use computational methods to “learn” information directly from data without relying on a predetermined equation as a model.\\\\n'\""
      ]
     },
     "execution_count": 11,
     "metadata": {},
     "output_type": "execute_result"
    }
   ],
   "source": [
    "f.read()"
   ]
  },
  {
   "cell_type": "code",
   "execution_count": 12,
   "id": "9b137f62",
   "metadata": {},
   "outputs": [],
   "source": [
    "f.close()"
   ]
  },
  {
   "cell_type": "code",
   "execution_count": 13,
   "id": "4423b111",
   "metadata": {},
   "outputs": [
    {
     "name": "stdout",
     "output_type": "stream",
     "text": [
      "'Machine Learning is an AI technique that teaches computers to learn from experience. Machine learning algorithms use computational methods to “learn” information directly from data without relying on a predetermined equation as a model.\\n'\n"
     ]
    }
   ],
   "source": [
    "with open(\"new 1.txt\",'r', encoding = 'utf-8') as f:\n",
    "    print(f.read())"
   ]
  },
  {
   "cell_type": "code",
   "execution_count": 20,
   "id": "2ab588d5",
   "metadata": {},
   "outputs": [],
   "source": [
    "with open(\"new.txt\",'w', encoding = 'utf-8') as f:\n",
    "    f.write(\"my name is \\n sam\")"
   ]
  },
  {
   "cell_type": "code",
   "execution_count": 21,
   "id": "3099939f",
   "metadata": {},
   "outputs": [],
   "source": [
    "with open(\"new.txt\",'a', encoding = 'utf-8') as f:\n",
    "    f.write(\"ben\\n\")"
   ]
  },
  {
   "cell_type": "code",
   "execution_count": null,
   "id": "077a1a9f",
   "metadata": {},
   "outputs": [],
   "source": []
  }
 ],
 "metadata": {
  "kernelspec": {
   "display_name": "Python 3 (ipykernel)",
   "language": "python",
   "name": "python3"
  },
  "language_info": {
   "codemirror_mode": {
    "name": "ipython",
    "version": 3
   },
   "file_extension": ".py",
   "mimetype": "text/x-python",
   "name": "python",
   "nbconvert_exporter": "python",
   "pygments_lexer": "ipython3",
   "version": "3.9.13"
  }
 },
 "nbformat": 4,
 "nbformat_minor": 5
}
